{
 "cells": [
  {
   "cell_type": "code",
   "execution_count": 2,
   "metadata": {},
   "outputs": [
    {
     "name": "stdout",
     "output_type": "stream",
     "text": [
      "['sample.txt.txt', 'xueqiu.png']\n"
     ]
    }
   ],
   "source": [
    "import os\n",
    "import shutil\n",
    "\n",
    "src_folder = \"C:\\\\Users\\\\WinfredMa\\\\Documents\\\\Python Automation\\\\files operations\\\\srcFolder\"\n",
    "des_folder = \"C:\\\\Users\\\\WinfredMa\\\\Documents\\\\Python Automation\\\\files operations\\\\desFolder\"\n",
    "\n",
    "files = os.listdir(src_folder)\n",
    "print(files)\n",
    "\n",
    "for i in files\n",
    "    src_path = src_folder + i\n",
    "    if os.path.isfile(src_path)"
   ]
  },
  {
   "cell_type": "code",
   "execution_count": null,
   "metadata": {},
   "outputs": [],
   "source": []
  },
  {
   "cell_type": "code",
   "execution_count": null,
   "metadata": {},
   "outputs": [],
   "source": []
  }
 ],
 "metadata": {
  "kernelspec": {
   "display_name": "Python 3",
   "language": "python",
   "name": "python3"
  },
  "language_info": {
   "codemirror_mode": {
    "name": "ipython",
    "version": 3
   },
   "file_extension": ".py",
   "mimetype": "text/x-python",
   "name": "python",
   "nbconvert_exporter": "python",
   "pygments_lexer": "ipython3",
   "version": "3.7.0"
  }
 },
 "nbformat": 4,
 "nbformat_minor": 2
}
